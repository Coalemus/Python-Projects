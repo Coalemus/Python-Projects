{
 "metadata": {
  "language_info": {
   "codemirror_mode": {
    "name": "ipython",
    "version": 3
   },
   "file_extension": ".py",
   "mimetype": "text/x-python",
   "name": "python",
   "nbconvert_exporter": "python",
   "pygments_lexer": "ipython3",
   "version": "3.8.6"
  },
  "orig_nbformat": 2,
  "kernelspec": {
   "name": "python3",
   "display_name": "Python 3.8.6 64-bit"
  },
  "metadata": {
   "interpreter": {
    "hash": "2db524e06e9f5f4ffedc911c917cb75e12dbc923643829bf417064a77eb14d37"
   }
  },
  "interpreter": {
   "hash": "2db524e06e9f5f4ffedc911c917cb75e12dbc923643829bf417064a77eb14d37"
  }
 },
 "nbformat": 4,
 "nbformat_minor": 2,
 "cells": [
  {
   "source": [
    "# Initiate code\n",
    "## Getting stock data from Yahoo! Finance."
   ],
   "cell_type": "markdown",
   "metadata": {}
  },
  {
   "cell_type": "code",
   "execution_count": null,
   "metadata": {},
   "outputs": [],
   "source": [
    "from datetime import datetime\n",
    "import smtplib\n",
    "import os\n",
    "import numpy as np\n",
    "from selenium import webdriver\n",
    "from selenium.webdriver.chrome.options import Options\n",
    "\n",
    "#For Prediction\n",
    "from sklearn.linear_model import LinearRegression\n",
    "from sklearn.model_selection import cross_validate\n",
    "from sklearn import preprocessing, svm\n",
    "\n",
    "#For Stock Data\n",
    "from iexfinance.stocks import Stock\n",
    "from iexfinance.stocks import get_historical_data\n",
    "\n",
    "#For credentials\n",
    "from crdntl import mail_address, passgoog\n",
    "\n",
    "# eduardojoeyflores = pk_54c6c59d898c4a34b7b2b66a18a7b2c7\n",
    "# joeyplaceholder = pk_2b1e123a92914fbfa2a2547e2a316612\n",
    "\n",
    "os.environ[\"IEX_TOKEN\"] = \"pk_2b1e123a92914fbfa2a2547e2a316612\"\n",
    "\n",
    "driver_path = r\"C:\\webdriver\\chromedriver.exe\"\n",
    "brave_path = r\"C:\\Program Files\\BraveSoftware\\Brave-Browser\\Application\\brave.exe\"\n",
    "\n",
    "opt = Options()\n",
    "opt.binary_location = brave_path\n",
    "# opt.add_argument(\"--incognito\") # OPTIONAL\n",
    "opt.add_argument(\"--headless\") # OPTIONAL\n",
    "opt.add_argument('--start-maximized')\n",
    "opt.add_experimental_option('excludeSwitches', ['enable-logging'])\n",
    "opt.add_argument('--disable-blink-features=AutomationControlled')\n",
    "\n",
    "def sendMessage(text):\n",
    "    # If you're using Gmail to send the message, you might need to \n",
    "    # go into the security settings of your email account and \n",
    "    # enable the \"Allow less secure apps\" option \n",
    "    username = mail_address\n",
    "    password = passgoog\n",
    "\n",
    "    vtext = \"PHONENUMBER@vtext.com\"\n",
    "    message = text\n",
    "\n",
    "    msg = \"\"\"From: %s\n",
    "    To: %s\n",
    "    %s\"\"\" % (username, vtext, message)\n",
    "\n",
    "    server = smtplib.SMTP('smtp.gmail.com', 587)\n",
    "    server.starttls()\n",
    "    server.login(username, password)\n",
    "    server.sendmail(username, vtext, msg)\n",
    "    server.quit()\n",
    "\n",
    "    print('Sent')\n",
    "\n",
    "def predictData(stock, days):\n",
    "    print(stock)\n",
    "\n",
    "    start = datetime(2017, 1, 1)\n",
    "    end = datetime(2020, 1, 1)\n",
    "\n",
    "    #Outputting the Historical data into a .csv for later use\n",
    "    df = get_historical_data(stock, start=start, end=end, output_format='pandas')\n",
    "    if os.path.exists(r'.\\Exports'):\n",
    "        csv_name = (r'Exports\\\\' + stock + 'Export.csv')\n",
    "    else:\n",
    "        os.mkdir(\"Exports\")\n",
    "        csv_name = (r'Exports\\\\' + stock + 'Export.csv')\n",
    "    df.to_csv(csv_name)\n",
    "    df['prediction'] = df['close'].shift(-1)\n",
    "    df.dropna(inplace=True)\n",
    "    df.describe()\n",
    "\n",
    "    forecast_time = int(days)\n",
    "\n",
    "    #Predicting the Stock price in the future\n",
    "    X = np.array(df.drop(['prediction'], 1))\n",
    "    Y = np.array(df['prediction'])\n",
    "    vector = np.vectorize(np.float)\n",
    "    X = vector(X)\n",
    "    X = preprocessing.scale(X)\n",
    "    X_prediction = X[-forecast_time:]\n",
    "    X_train, Y_train, Y_test = cross_validate.train_test_split(\n",
    "        X, Y, test_size=0.5)\n",
    "\n",
    "    #Performing the Regression on the training data\n",
    "    clf = LinearRegression()\n",
    "    clf.fit(X_train, Y_train)\n",
    "    prediction = (clf.predict(X_prediction))\n",
    "\n",
    "    last_row = df.tail(1)\n",
    "    print(last_row['close'])\n",
    "\n",
    "    #Sending the SMS if the predicted price of the stock is at least 1 greater than the previous closing price\n",
    "    if (float(prediction[4]) > (float(last_row['close'])) + 1):\n",
    "        output = (\"\\n\\nStock:\" + str(stock) + \"\\nPrior Close:\\n\" + str(last_row['close']) + \"\\n\\nPrediction in 1 Day: \" + str(\n",
    "            prediction[0]) + \"\\nPrediction in 5 Days: \" + str(prediction[4]))\n",
    "        sendMessage(output)\n",
    "\n",
    "def getStocks(n):\n",
    "    #Navigating to the Yahoo stock screener\n",
    "    # Create new Instance of Brave\n",
    "    driver = webdriver.Chrome(executable_path=driver_path, options=opt)\n",
    "    url = \"https://finance.yahoo.com/screener/predefined/aggressive_small_caps?offset=0&count=202\"\n",
    "    driver.get(url)\n",
    "\n",
    "    #Creating a stock list and iterating through the ticker names on the stock screener list\n",
    "    # //*[@id=\"scr-res-table\"]/div[1]/table/tbody/tr[1]/td[1]/a\n",
    "    stock_list = []\n",
    "    n += 1\n",
    "    for i in range(1, n):\n",
    "        ticker = driver.find_element_by_xpath(\n",
    "            '//*[@id = \"scr-res-table\"]/div[1]/table/tbody/tr[' + str(i) + ']/td[1]/a')\n",
    "        stock_list.append(ticker.text)\n",
    "    driver.quit()\n",
    "    \n",
    "    #Using the stock list to predict the future price of the stock a specificed amount of days\n",
    "    number = 0\n",
    "    for i in stock_list:\n",
    "        print(\"Number: \" + str(number))\n",
    "        try:\n",
    "            predictData(i, 5)\n",
    "        except:\n",
    "            print(\"Stock: \" + i + \" was not predicted\")\n",
    "        number += 1\n",
    "\n"
   ]
  },
  {
   "source": [
    "# Test Code"
   ],
   "cell_type": "markdown",
   "metadata": {}
  },
  {
   "cell_type": "code",
   "execution_count": null,
   "metadata": {},
   "outputs": [],
   "source": [
    "import json\n",
    "import requests\n",
    "\n",
    "token = 'pk_2b1e123a92914fbfa2a2547e2a316612'\n",
    "symbol = 'IBM'\n",
    "url = 'https://cloud.iexapis.com/stable/stock/{}/quote?token={}'.format(symbol, token)\n",
    "response = requests.get(url)\n",
    "print(response.json())"
   ]
  },
  {
   "source": [
    "## Test run prediction function on a stock"
   ],
   "cell_type": "markdown",
   "metadata": {}
  },
  {
   "cell_type": "code",
   "execution_count": null,
   "metadata": {},
   "outputs": [],
   "source": [
    "stock = \"RIDE\"\n",
    "\n",
    "predictData(stock, 1)"
   ]
  },
  {
   "source": [
    "## Not available for Free tier accounts"
   ],
   "cell_type": "markdown",
   "metadata": {}
  },
  {
   "cell_type": "code",
   "execution_count": null,
   "metadata": {},
   "outputs": [],
   "source": [
    "batch = Stock([\"TSLA\", \"AAPL\"])\n",
    "\n",
    "batch.get_price()"
   ]
  },
  {
   "source": [
    "# Run Code"
   ],
   "cell_type": "markdown",
   "metadata": {}
  },
  {
   "cell_type": "code",
   "execution_count": null,
   "metadata": {},
   "outputs": [],
   "source": [
    "# Predict on a number of stocks.\n",
    "\n",
    "getStocks(10)"
   ]
  },
  {
   "cell_type": "code",
   "execution_count": null,
   "metadata": {},
   "outputs": [],
   "source": []
  }
 ]
}