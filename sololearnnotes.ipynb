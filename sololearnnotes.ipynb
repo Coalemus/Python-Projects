{
 "metadata": {
  "language_info": {
   "codemirror_mode": {
    "name": "ipython",
    "version": 3
   },
   "file_extension": ".py",
   "mimetype": "text/x-python",
   "name": "python",
   "nbconvert_exporter": "python",
   "pygments_lexer": "ipython3",
   "version": 3
  },
  "orig_nbformat": 2
 },
 "nbformat": 4,
 "nbformat_minor": 2,
 "cells": [
  {
   "source": [
    "# Basic concepts"
   ],
   "cell_type": "markdown",
   "metadata": {}
  },
  {
   "source": [
    "# Simple Operations"
   ],
   "cell_type": "markdown",
   "metadata": {}
  },
  {
   "cell_type": "code",
   "execution_count": null,
   "metadata": {},
   "outputs": [],
   "source": [
    "print(2 + 2)\n",
    "print(5 + 4 - 3)\n",
    "\n",
    "print(2*(3+4)) # Use asterisk (*) to indicate multiplication.\n",
    "print(10 / 2)  # Use forward slash (/) to indicate division.\n",
    "\n",
    "print(11 / 0) # Dividing by zero in Python produces an error."
   ]
  },
  {
   "source": [
    "## Floats (/) (integers) (1.0)"
   ],
   "cell_type": "markdown",
   "metadata": {}
  },
  {
   "cell_type": "code",
   "execution_count": null,
   "metadata": {},
   "outputs": [],
   "source": [
    "print(3 / 4) # Floats are used in Python to represent numbers that aren't integers (whole numbers). ex. 0.5 and -7.8237591.\n",
    "# A float is also produced by running an operation on two floats, or on a float and an integer.\n",
    "print(6 * 7.0)\n",
    "print(4 + 1.65)\n"
   ]
  },
  {
   "source": [
    "## Exponentiation (**)"
   ],
   "cell_type": "markdown",
   "metadata": {}
  },
  {
   "cell_type": "code",
   "execution_count": null,
   "metadata": {},
   "outputs": [],
   "source": [
    "print(2 ** 5) # Exponentiation is performed using 2 asterisks.\n",
    "print(9 ** (1/5))\n"
   ]
  },
  {
   "source": [
    "## Quotient (//)"
   ],
   "cell_type": "markdown",
   "metadata": {}
  },
  {
   "cell_type": "code",
   "execution_count": null,
   "metadata": {},
   "outputs": [],
   "source": [
    "print(20 // 6) # Floor division is done using two forward slashes (//) and is used to determine the quotient of a division (the quantity produced by the division of two numbers).\n",
    "print(6 // 20.0)# You can also use Floor division on Floats."
   ]
  },
  {
   "source": [
    "## Remainder (%)"
   ],
   "cell_type": "markdown",
   "metadata": {}
  },
  {
   "cell_type": "code",
   "execution_count": null,
   "metadata": {},
   "outputs": [],
   "source": [
    "print(20 % 6) # The \"modulo operator\" is carried out with a percent symbol (%) and is used to get the remainder of a division.\n",
    "print(1.25 % 0.5)\n"
   ]
  },
  {
   "source": [
    "# Strings "
   ],
   "cell_type": "markdown",
   "metadata": {}
  },
  {
   "cell_type": "code",
   "execution_count": null,
   "metadata": {},
   "outputs": [],
   "source": [
    "print(\"Python is fun!\") # A String is created by entering text between two single ('') or double (\"\") quotation marks.\n",
    "print('Always look on the bright side of life')"
   ]
  },
  {
   "source": [
    "## Backslash (\\\\)\n"
   ],
   "cell_type": "markdown",
   "metadata": {}
  },
  {
   "cell_type": "code",
   "execution_count": null,
   "metadata": {},
   "outputs": [],
   "source": [
    "print('Brian\\'s mother: He\\'s not an angel. He\\'s a very naughty boy!') # Some characters can't be directly included in a string, For instance, double quotes (\"\") can't be directly included in a double quote string. (\"\"); this would cause it to end prematurely. Characters like these must be escaped by placing a backlash (\\) before them. Double quotes (\"\") only need to be escaped in double quote (\"\") strings, and the same is true for single quote ('') strings.\n",
    "# Backlashes (\\) can be also used to escape tabs, arbitrary Unicode characters, and various other things that can't be reliably printed.\n"
   ]
  },
  {
   "source": [
    "## Newlines(\\n)\n"
   ],
   "cell_type": "markdown",
   "metadata": {}
  },
  {
   "cell_type": "code",
   "execution_count": null,
   "metadata": {},
   "outputs": [],
   "source": [
    "print('One \\nTwo \\nThree') # \\n represents a new line. It can be used in strings to create multi'ine output.                       \n",
    "# Newlines will be automatically added for strings that are created using three quotes (\"\"\"string\"\"\")\n",
    "print(\"\"\"this\n",
    "is a\n",
    "multiline\n",
    "text\"\"\")\n"
   ]
  },
  {
   "source": [
    "# String operations"
   ],
   "cell_type": "markdown",
   "metadata": {}
  },
  {
   "source": [
    "## Concatenation (str + str) (str * n)"
   ],
   "cell_type": "markdown",
   "metadata": {}
  },
  {
   "cell_type": "code",
   "execution_count": null,
   "metadata": {},
   "outputs": [],
   "source": [
    "print(\"Spam\" + 'eggs') # As with integers and floats, strings in Python can be added, using a process called concatenation, which can be done on any two (2) strings.\n",
    "print(\"2\" + \"2\") # Even if your string contaions numbers, they are still added as strings rather than integers.\n",
    "# Strings can also be multiplied by integers. This produces a repeated version of the original string. The order of the string and the intger doesn't matter, but the string usually comes first.\n",
    "print(\"Spam\" * 3)\n",
    "print(4 * '2') \n",
    "# Strings can't be multiplied by other strings.\n",
    "# Strings also can't be multiplied by floats, even if the floats are whole numbers.\n"
   ]
  },
  {
   "source": [
    "# Variables"
   ],
   "cell_type": "markdown",
   "metadata": {}
  },
  {
   "cell_type": "code",
   "execution_count": null,
   "metadata": {},
   "outputs": [],
   "source": [
    "# A variable allows you to store a value by assigning it to a name, which can be used to refer to the value later in the program.\n",
    "user = \"Joey\" # To assign a variable use one (1) equal sign (=)\n",
    "\n",
    "# You can use variables to perform corresponding operations, just as you did with numbers and strings.\n",
    "x = 7\n",
    "print(x)\n",
    "\n",
    "print(x + 3)\n",
    "print(x)\n",
    "\n",
    "# Variables can be assigned as many times as you want, in order to change their value in Python, variables don't have specific types;\n",
    "# So you can assign a string to a variable, and later assign an integer to the same variable.\n",
    "x = 123.456\n",
    "print(x)\n",
    "\n",
    "x = \"This is a string\"\n",
    "print(x + \"!\")\n",
    "\n",
    "# However, it is not good practice. To avoid mistakes, try to avoid overwriting the same variable with different data types.\n"
   ]
  },
  {
   "source": [
    "## Variable names"
   ],
   "cell_type": "markdown",
   "metadata": {}
  },
  {
   "cell_type": "code",
   "execution_count": null,
   "metadata": {},
   "outputs": [],
   "source": [
    "# Certain restrictions apply in regard to the characters that may be used in Python variable names.\n",
    "# The only characters that are allowed are letters, numbers, and underscores. Also, they can't start with numbers.\n",
    "\n",
    "this_is_a_normal_name = 7\n",
    "'''\n",
    "\n",
    "123abc = 7\n",
    "\n",
    "'''\n",
    "SyntaxError: invalid syntax # Not following these rules result in errors.\n"
   ]
  },
  {
   "source": [
    "## del statements (del)"
   ],
   "cell_type": "markdown",
   "metadata": {}
  },
  {
   "cell_type": "code",
   "execution_count": null,
   "metadata": {},
   "outputs": [],
   "source": [
    "# You can use the del statement to remove a variable, which means the reference from the next value is deleted, and trying to use the variable causes an error.\n",
    "\n",
    "foo = 3\n",
    "del foo\n",
    "print(foo)\n",
    "NameError: the name 'foo' is not defined\n",
    "\n",
    "# Deleted variables can be reassigned to later as normal.\n",
    "\n",
    "foo = 2\n",
    "bar = 3\n",
    "del bar\n",
    "bar = 8\n",
    "print(foo * bar)\n",
    "# Outputs: 16"
   ]
  }
 ]
}