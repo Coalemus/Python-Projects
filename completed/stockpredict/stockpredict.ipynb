{
 "metadata": {
  "language_info": {
   "codemirror_mode": {
    "name": "ipython",
    "version": 3
   },
   "file_extension": ".py",
   "mimetype": "text/x-python",
   "name": "python",
   "nbconvert_exporter": "python",
   "pygments_lexer": "ipython3",
   "version": "3.8.6"
  },
  "orig_nbformat": 2,
  "kernelspec": {
   "name": "python386jvsc74a57bd02db524e06e9f5f4ffedc911c917cb75e12dbc923643829bf417064a77eb14d37",
   "display_name": "Python 3.8.6 64-bit"
  },
  "metadata": {
   "interpreter": {
    "hash": "2db524e06e9f5f4ffedc911c917cb75e12dbc923643829bf417064a77eb14d37"
   }
  }
 },
 "nbformat": 4,
 "nbformat_minor": 2,
 "cells": [
  {
   "cell_type": "code",
   "execution_count": 2,
   "metadata": {},
   "outputs": [],
   "source": [
    "from datetime import datetime\n",
    "import smtplib\n",
    "import os\n",
    "import numpy as np\n",
    "from selenium import webdriver\n",
    "from selenium.webdriver.chrome.options import Options\n",
    "\n",
    "#For Prediction\n",
    "from sklearn.linear_model import LinearRegression\n",
    "from sklearn.model_selection import cross_validate\n",
    "from sklearn import preprocessing, svm\n",
    "\n",
    "#For Stock Data\n",
    "from iexfinance.stocks import Stock\n",
    "from iexfinance.stocks import get_historical_data\n",
    "\n",
    "#For credentials\n",
    "from crdntl import mail_address, passgoog\n",
    "\n",
    "os.environ[\"IEX_TOKEN\"] = \"pk_54c6c59d898c4a34b7b2b66a18a7b2c7\"\n",
    "\n",
    "driver_path = r\"C:\\webdriver\\chromedriver.exe\"\n",
    "brave_path = r\"C:\\Program Files\\BraveSoftware\\Brave-Browser\\Application\\brave.exe\"\n",
    "\n",
    "opt = Options()\n",
    "opt.binary_location = brave_path\n",
    "# opt.add_argument(\"--incognito\") # OPTIONAL\n",
    "opt.add_argument(\"--headless\") # OPTIONAL\n",
    "opt.add_argument('--start-maximized')\n",
    "opt.add_experimental_option('excludeSwitches', ['enable-logging'])\n",
    "opt.add_argument('--disable-blink-features=AutomationControlled')\n",
    "\n",
    "def sendMessage(text):\n",
    "    # If you're using Gmail to send the message, you might need to \n",
    "    # go into the security settings of your email account and \n",
    "    # enable the \"Allow less secure apps\" option \n",
    "    username = mail_address\n",
    "    password = passgoog\n",
    "\n",
    "    vtext = \"PHONENUMBER@vtext.com\"\n",
    "    message = text\n",
    "\n",
    "    msg = \"\"\"From: %s\n",
    "    To: %s\n",
    "    %s\"\"\" % (username, vtext, message)\n",
    "\n",
    "    server = smtplib.SMTP('smtp.gmail.com', 587)\n",
    "    server.starttls()\n",
    "    server.login(username, password)\n",
    "    server.sendmail(username, vtext, msg)\n",
    "    server.quit()\n",
    "\n",
    "    print('Sent')\n",
    "\n",
    "def predictData(stock, days):\n",
    "    print(stock)\n",
    "\n",
    "    start = datetime(2017, 1, 1)\n",
    "    end = datetime(2020, 1, 1)\n",
    "\n",
    "    #Outputting the Historical data into a .csv for later use\n",
    "    df = get_historical_data(stock, start=start, end=end, output_format='pandas')\n",
    "    if os.path.exists(r'.\\Exports'):\n",
    "        csv_name = (r'Exports\\\\' + stock + 'Export.csv')\n",
    "    else:\n",
    "        os.mkdir(\"Exports\")\n",
    "        csv_name = (r'Exports\\\\' + stock + 'Export.csv')\n",
    "    df.to_csv(csv_name)\n",
    "    df['prediction'] = df['close'].shift(-1)\n",
    "    df.dropna(inplace=True)\n",
    "\n",
    "    forecast_time = int(days)\n",
    "\n",
    "    #Predicting the Stock price in the future\n",
    "    X = np.array(df.drop(['prediction'], 1))\n",
    "    Y = np.array(df['prediction'])\n",
    "    X = X.str.replace(',', '')\n",
    "    X = preprocessing.scale(X)\n",
    "    X_prediction = X[-forecast_time:]\n",
    "    X_train, Y_train, Y_test = cross_validate.train_test_split(\n",
    "        X, Y, test_size=0.5)\n",
    "\n",
    "    #Performing the Regression on the training data\n",
    "    clf = LinearRegression()\n",
    "    clf.fit(X_train, Y_train)\n",
    "    prediction = (clf.predict(X_prediction))\n",
    "\n",
    "    last_row = df.tail(1)\n",
    "    print(last_row['close'])\n",
    "\n",
    "    #Sending the SMS if the predicted price of the stock is at least 1 greater than the previous closing price\n",
    "    if (float(prediction[4]) > (float(last_row['close'])) + 1):\n",
    "        output = (\"\\n\\nStock:\" + str(stock) + \"\\nPrior Close:\\n\" + str(last_row['close']) + \"\\n\\nPrediction in 1 Day: \" + str(\n",
    "            prediction[0]) + \"\\nPrediction in 5 Days: \" + str(prediction[4]))\n",
    "        sendMessage(output)\n",
    "\n",
    "def getStocks(n):\n",
    "    #Navigating to the Yahoo stock screener\n",
    "    # Create new Instance of Brave\n",
    "    driver = webdriver.Chrome(executable_path=driver_path, options=opt)\n",
    "    url = \"https://finance.yahoo.com/screener/predefined/aggressive_small_caps?offset=0&count=202\"\n",
    "    driver.get(url)\n",
    "\n",
    "    #Creating a stock list and iterating through the ticker names on the stock screener list\n",
    "    # //*[@id=\"scr-res-table\"]/div[1]/table/tbody/tr[1]/td[1]/a\n",
    "    stock_list = []\n",
    "    n += 1\n",
    "    for i in range(1, n):\n",
    "        ticker = driver.find_element_by_xpath(\n",
    "            '//*[@id = \"scr-res-table\"]/div[1]/table/tbody/tr[' + str(i) + ']/td[1]/a')\n",
    "        stock_list.append(ticker.text)\n",
    "    driver.quit()\n",
    "    \n",
    "    #Using the stock list to predict the future price of the stock a specificed amount of days\n",
    "    number = 0\n",
    "    for i in stock_list:\n",
    "        print(\"Number: \" + str(number))\n",
    "        try:\n",
    "            predictData(i, 5)\n",
    "        except:\n",
    "            print(\"Stock: \" + i + \" was not predicted\")\n",
    "        number += 1\n",
    "\n"
   ]
  },
  {
   "cell_type": "code",
   "execution_count": 3,
   "metadata": {},
   "outputs": [
    {
     "output_type": "stream",
     "name": "stdout",
     "text": [
      "RIDE\n"
     ]
    },
    {
     "output_type": "error",
     "ename": "IEXQueryError",
     "evalue": "An error occurred while making the query (402): You have used all available credits for the month. Please upgrade or purchase additional packages to access more data.",
     "traceback": [
      "\u001b[1;31m---------------------------------------------------------------------------\u001b[0m",
      "\u001b[1;31mIEXQueryError\u001b[0m                             Traceback (most recent call last)",
      "\u001b[1;32m<ipython-input-3-41177e6c3c2f>\u001b[0m in \u001b[0;36m<module>\u001b[1;34m\u001b[0m\n\u001b[1;32m----> 1\u001b[1;33m \u001b[0mpredictData\u001b[0m\u001b[1;33m(\u001b[0m\u001b[1;34m\"RIDE\"\u001b[0m\u001b[1;33m,\u001b[0m \u001b[1;36m1\u001b[0m\u001b[1;33m)\u001b[0m\u001b[1;33m\u001b[0m\u001b[1;33m\u001b[0m\u001b[0m\n\u001b[0m",
      "\u001b[1;32m<ipython-input-2-a897827e4e75>\u001b[0m in \u001b[0;36mpredictData\u001b[1;34m(stock, days)\u001b[0m\n\u001b[0;32m     60\u001b[0m \u001b[1;33m\u001b[0m\u001b[0m\n\u001b[0;32m     61\u001b[0m     \u001b[1;31m#Outputting the Historical data into a .csv for later use\u001b[0m\u001b[1;33m\u001b[0m\u001b[1;33m\u001b[0m\u001b[1;33m\u001b[0m\u001b[0m\n\u001b[1;32m---> 62\u001b[1;33m     \u001b[0mdf\u001b[0m \u001b[1;33m=\u001b[0m \u001b[0mget_historical_data\u001b[0m\u001b[1;33m(\u001b[0m\u001b[0mstock\u001b[0m\u001b[1;33m,\u001b[0m \u001b[0mstart\u001b[0m\u001b[1;33m=\u001b[0m\u001b[0mstart\u001b[0m\u001b[1;33m,\u001b[0m \u001b[0mend\u001b[0m\u001b[1;33m=\u001b[0m\u001b[0mend\u001b[0m\u001b[1;33m,\u001b[0m \u001b[0moutput_format\u001b[0m\u001b[1;33m=\u001b[0m\u001b[1;34m'pandas'\u001b[0m\u001b[1;33m)\u001b[0m\u001b[1;33m\u001b[0m\u001b[1;33m\u001b[0m\u001b[0m\n\u001b[0m\u001b[0;32m     63\u001b[0m     \u001b[1;32mif\u001b[0m \u001b[0mos\u001b[0m\u001b[1;33m.\u001b[0m\u001b[0mpath\u001b[0m\u001b[1;33m.\u001b[0m\u001b[0mexists\u001b[0m\u001b[1;33m(\u001b[0m\u001b[1;34mr'.\\Exports'\u001b[0m\u001b[1;33m)\u001b[0m\u001b[1;33m:\u001b[0m\u001b[1;33m\u001b[0m\u001b[1;33m\u001b[0m\u001b[0m\n\u001b[0;32m     64\u001b[0m         \u001b[0mcsv_name\u001b[0m \u001b[1;33m=\u001b[0m \u001b[1;33m(\u001b[0m\u001b[1;34mr'Exports\\\\'\u001b[0m \u001b[1;33m+\u001b[0m \u001b[0mstock\u001b[0m \u001b[1;33m+\u001b[0m \u001b[1;34m'Export.csv'\u001b[0m\u001b[1;33m)\u001b[0m\u001b[1;33m\u001b[0m\u001b[1;33m\u001b[0m\u001b[0m\n",
      "\u001b[1;32mC:\\Python38\\lib\\site-packages\\iexfinance\\stocks\\__init__.py\u001b[0m in \u001b[0;36mget_historical_data\u001b[1;34m(symbols, start, end, close_only, **kwargs)\u001b[0m\n\u001b[0;32m     40\u001b[0m         \u001b[0mHistorical\u001b[0m \u001b[0mstock\u001b[0m \u001b[0mprices\u001b[0m \u001b[0mover\u001b[0m \u001b[0mdate\u001b[0m \u001b[0mrange\u001b[0m\u001b[1;33m,\u001b[0m \u001b[0mstart\u001b[0m \u001b[0mto\u001b[0m \u001b[0mend\u001b[0m\u001b[1;33m\u001b[0m\u001b[1;33m\u001b[0m\u001b[0m\n\u001b[0;32m     41\u001b[0m     \"\"\"\n\u001b[1;32m---> 42\u001b[1;33m     return HistoricalReader(\n\u001b[0m\u001b[0;32m     43\u001b[0m         \u001b[0msymbols\u001b[0m\u001b[1;33m,\u001b[0m \u001b[0mstart\u001b[0m\u001b[1;33m=\u001b[0m\u001b[0mstart\u001b[0m\u001b[1;33m,\u001b[0m \u001b[0mend\u001b[0m\u001b[1;33m=\u001b[0m\u001b[0mend\u001b[0m\u001b[1;33m,\u001b[0m \u001b[0mclose_only\u001b[0m\u001b[1;33m=\u001b[0m\u001b[0mclose_only\u001b[0m\u001b[1;33m,\u001b[0m \u001b[1;33m**\u001b[0m\u001b[0mkwargs\u001b[0m\u001b[1;33m\u001b[0m\u001b[1;33m\u001b[0m\u001b[0m\n\u001b[0;32m     44\u001b[0m     ).fetch()\n",
      "\u001b[1;32mC:\\Python38\\lib\\site-packages\\iexfinance\\base.py\u001b[0m in \u001b[0;36mfetch\u001b[1;34m(self, format)\u001b[0m\n\u001b[0;32m    203\u001b[0m         \"\"\"\n\u001b[0;32m    204\u001b[0m         \u001b[0murl\u001b[0m \u001b[1;33m=\u001b[0m \u001b[0mself\u001b[0m\u001b[1;33m.\u001b[0m\u001b[0m_prepare_query\u001b[0m\u001b[1;33m(\u001b[0m\u001b[1;33m)\u001b[0m\u001b[1;33m\u001b[0m\u001b[1;33m\u001b[0m\u001b[0m\n\u001b[1;32m--> 205\u001b[1;33m         \u001b[0mdata\u001b[0m \u001b[1;33m=\u001b[0m \u001b[0mself\u001b[0m\u001b[1;33m.\u001b[0m\u001b[0m_execute_iex_query\u001b[0m\u001b[1;33m(\u001b[0m\u001b[0murl\u001b[0m\u001b[1;33m)\u001b[0m\u001b[1;33m\u001b[0m\u001b[1;33m\u001b[0m\u001b[0m\n\u001b[0m\u001b[0;32m    206\u001b[0m         \u001b[1;32mreturn\u001b[0m \u001b[0mself\u001b[0m\u001b[1;33m.\u001b[0m\u001b[0m_format_output\u001b[0m\u001b[1;33m(\u001b[0m\u001b[0mdata\u001b[0m\u001b[1;33m,\u001b[0m \u001b[0mformat\u001b[0m\u001b[1;33m=\u001b[0m\u001b[0mformat\u001b[0m\u001b[1;33m)\u001b[0m\u001b[1;33m\u001b[0m\u001b[1;33m\u001b[0m\u001b[0m\n\u001b[0;32m    207\u001b[0m \u001b[1;33m\u001b[0m\u001b[0m\n",
      "\u001b[1;32mC:\\Python38\\lib\\site-packages\\iexfinance\\base.py\u001b[0m in \u001b[0;36m_execute_iex_query\u001b[1;34m(self, url)\u001b[0m\n\u001b[0;32m    174\u001b[0m                 \u001b[1;32mreturn\u001b[0m \u001b[0mself\u001b[0m\u001b[1;33m.\u001b[0m\u001b[0m_validate_response\u001b[0m\u001b[1;33m(\u001b[0m\u001b[0mresponse\u001b[0m\u001b[1;33m)\u001b[0m\u001b[1;33m\u001b[0m\u001b[1;33m\u001b[0m\u001b[0m\n\u001b[0;32m    175\u001b[0m             \u001b[0mtime\u001b[0m\u001b[1;33m.\u001b[0m\u001b[0msleep\u001b[0m\u001b[1;33m(\u001b[0m\u001b[0mself\u001b[0m\u001b[1;33m.\u001b[0m\u001b[0mpause\u001b[0m\u001b[1;33m)\u001b[0m\u001b[1;33m\u001b[0m\u001b[1;33m\u001b[0m\u001b[0m\n\u001b[1;32m--> 176\u001b[1;33m         \u001b[1;32mreturn\u001b[0m \u001b[0mself\u001b[0m\u001b[1;33m.\u001b[0m\u001b[0m_handle_error\u001b[0m\u001b[1;33m(\u001b[0m\u001b[0mresponse\u001b[0m\u001b[1;33m)\u001b[0m\u001b[1;33m\u001b[0m\u001b[1;33m\u001b[0m\u001b[0m\n\u001b[0m\u001b[0;32m    177\u001b[0m \u001b[1;33m\u001b[0m\u001b[0m\n\u001b[0;32m    178\u001b[0m     \u001b[1;32mdef\u001b[0m \u001b[0m_handle_error\u001b[0m\u001b[1;33m(\u001b[0m\u001b[0mself\u001b[0m\u001b[1;33m,\u001b[0m \u001b[0mresponse\u001b[0m\u001b[1;33m)\u001b[0m\u001b[1;33m:\u001b[0m\u001b[1;33m\u001b[0m\u001b[1;33m\u001b[0m\u001b[0m\n",
      "\u001b[1;32mC:\\Python38\\lib\\site-packages\\iexfinance\\base.py\u001b[0m in \u001b[0;36m_handle_error\u001b[1;34m(self, response)\u001b[0m\n\u001b[0;32m    180\u001b[0m         \u001b[0mHandles\u001b[0m \u001b[0mall\u001b[0m \u001b[0mresponses\u001b[0m \u001b[0mwhich\u001b[0m \u001b[1;32mreturn\u001b[0m \u001b[0man\u001b[0m \u001b[0merror\u001b[0m \u001b[0mstatus\u001b[0m \u001b[0mcode\u001b[0m\u001b[1;33m\u001b[0m\u001b[1;33m\u001b[0m\u001b[0m\n\u001b[0;32m    181\u001b[0m         \"\"\"\n\u001b[1;32m--> 182\u001b[1;33m         \u001b[1;32mraise\u001b[0m \u001b[0mIEXQueryError\u001b[0m\u001b[1;33m(\u001b[0m\u001b[0mresponse\u001b[0m\u001b[1;33m.\u001b[0m\u001b[0mstatus_code\u001b[0m\u001b[1;33m,\u001b[0m \u001b[0mresponse\u001b[0m\u001b[1;33m.\u001b[0m\u001b[0mtext\u001b[0m\u001b[1;33m)\u001b[0m\u001b[1;33m\u001b[0m\u001b[1;33m\u001b[0m\u001b[0m\n\u001b[0m\u001b[0;32m    183\u001b[0m \u001b[1;33m\u001b[0m\u001b[0m\n\u001b[0;32m    184\u001b[0m     \u001b[1;32mdef\u001b[0m \u001b[0m_prepare_query\u001b[0m\u001b[1;33m(\u001b[0m\u001b[0mself\u001b[0m\u001b[1;33m)\u001b[0m\u001b[1;33m:\u001b[0m\u001b[1;33m\u001b[0m\u001b[1;33m\u001b[0m\u001b[0m\n",
      "\u001b[1;31mIEXQueryError\u001b[0m: An error occurred while making the query (402): You have used all available credits for the month. Please upgrade or purchase additional packages to access more data."
     ]
    }
   ],
   "source": [
    "# Test run prediction function on a stock\n",
    "\n",
    "predictData(\"RIDE\", 1)"
   ]
  },
  {
   "cell_type": "code",
   "execution_count": null,
   "metadata": {},
   "outputs": [],
   "source": [
    "# Predict on a number of stocks.\n",
    "\n",
    "getStocks(10)"
   ]
  },
  {
   "cell_type": "code",
   "execution_count": null,
   "metadata": {},
   "outputs": [],
   "source": [
    "# Not available for Free tier accounts\n",
    "\n",
    "batch = Stock([\"TSLA\", \"AAPL\"])\n",
    "\n",
    "batch.get_price()"
   ]
  },
  {
   "cell_type": "code",
   "execution_count": null,
   "metadata": {},
   "outputs": [],
   "source": []
  }
 ]
}