{
 "cells": [
  {
   "cell_type": "markdown",
   "metadata": {},
   "source": [
    "# Initialize Selenium\n",
    "\n",
    "### If it crashes, run again to run properly."
   ]
  },
  {
   "cell_type": "code",
   "execution_count": null,
   "metadata": {},
   "outputs": [],
   "source": [
    "from selenium import webdriver\n",
    "from selenium.webdriver.common.keys import Keys \n",
    "import time\n",
    "from crdntl import mail_address, passgoog, passplain, passtwt\n",
    "\n",
    "driver_path = \"/home/joey/Drivers/chromedriver\"\n",
    "brave_path = \"/home/joey/.cache/yay/brave-bin/brave-browser.desktop\"\n",
    "\n",
    "option = webdriver.ChromeOptions()\n",
    "option.binary_location = brave_path\n",
    "option.add_argument('--disable-blink-features=AutomationControlled')\n",
    "option.add_experimental_option('excludeSwitches', ['enable-logging'])\n",
    "option.add_argument('--start-maximized')\n",
    "# option.add_argument(\"--incognito\") #OPTIONAL\n",
    "# option.add_argument(\"--headless\") #OPTIONAL"
   ]
  },
  {
   "cell_type": "markdown",
   "metadata": {},
   "source": [
    "# Twitter"
   ]
  },
  {
   "cell_type": "code",
   "execution_count": null,
   "metadata": {},
   "outputs": [],
   "source": [
    "browser = webdriver.Chrome(executable_path=driver_path, options=option)\n",
    "\n",
    "browser.get(\"https://twitter.com/login\")\n",
    "\n",
    "time.sleep(2)\n",
    "\n",
    "user = browser.find_element_by_xpath('//*[@id=\"react-root\"]/div/div/div[2]/main/div/div/div[2]/form/div/div[1]/label/div/div[2]/div/input')\n",
    "  \n",
    "# Enter User Name\n",
    "user.send_keys('edujoeflo')\n",
    "\n",
    "user = browser.find_elements_by_xpath('//*[@id=\"react-root\"]/div/div/div[2]/main/div/div/div[2]/form/div/div[2]/label/div/div[2]/div/input')\n",
    "\n",
    "# Enter Password\n",
    "user[0].send_keys(passtwt)\n",
    "  \n",
    "LOG = browser.find_element_by_xpath('//*[@id=\"react-root\"]/div/div/div[2]/main/div/div/div[2]/form/div/div[3]/div').click()\n",
    "\n",
    "print(\"Login Successful\")\n",
    "\n",
    "time.sleep(5)\n",
    "\n",
    "elem = browser.find_element_by_xpath('//*[@id=\"react-root\"]/div/div/div[2]/main/div/div/div/div[2]/div/div[2]/div/div/div/div[1]/div/div/div/form/div[1]/div/div/div[2]/input')\n",
    "elem.click()\n",
    "elem.clear()\n",
    "  \n",
    "elem.send_keys(\"test\")\n",
    "  \n",
    "# using keys to send special KEYS \n",
    "elem.send_keys(Keys.RETURN) \n",
    "  \n",
    "print(\"Search Successful\")\n",
    "\n",
    "time.sleep(5)\n",
    "browser.close()"
   ]
  },
  {
   "cell_type": "markdown",
   "metadata": {},
   "source": [
    "# Facebook"
   ]
  },
  {
   "cell_type": "code",
   "execution_count": null,
   "metadata": {},
   "outputs": [],
   "source": [
    "browser = webdriver.Chrome(executable_path=driver_path, options=option)\n",
    "\n",
    "browser.get(\"https://mbasic.facebook.com\")  \n",
    "\n",
    "# Creating a Reference of Form For Finding Email and Password\n",
    "form = browser.find_element_by_xpath(\"//form[@id ='login_form']\")\n",
    "email = form.find_element_by_name(\"email\") \n",
    "password = form.find_element_by_name(\"pass\")\n",
    "\n",
    "email.send_keys(mail_address)\n",
    "password.send_keys(passplain) \n",
    "\n",
    "submit_button = browser.find_element_by_xpath(\"//input[@type ='submit']\")\n",
    "\n",
    "submit_button.click() \n",
    "\n",
    "print(\"Login Successful.\")\n",
    "\n",
    "time.sleep(5)\n",
    "browser.close()"
   ]
  }
 ],
 "metadata": {
  "kernelspec": {
   "display_name": "Python 3.8.6 64-bit",
   "name": "python386jvsc74a57bd02db524e06e9f5f4ffedc911c917cb75e12dbc923643829bf417064a77eb14d37"
  },
  "language_info": {
   "codemirror_mode": {
    "name": "ipython",
    "version": 3
   },
   "file_extension": ".py",
   "mimetype": "text/x-python",
   "name": "python",
   "nbconvert_exporter": "python",
   "pygments_lexer": "ipython3",
   "version": "3.8.6"
  },
  "metadata": {
   "interpreter": {
    "hash": "2db524e06e9f5f4ffedc911c917cb75e12dbc923643829bf417064a77eb14d37"
   }
  },
  "orig_nbformat": 2
 },
 "nbformat": 4,
 "nbformat_minor": 2
}
