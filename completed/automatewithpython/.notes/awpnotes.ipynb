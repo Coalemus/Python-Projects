{
 "cells": [
  {
   "cell_type": "markdown",
   "metadata": {},
   "source": [
    "# Imported all modules from Automatwithpython Directory."
   ]
  },
  {
   "cell_type": "code",
   "execution_count": null,
   "metadata": {},
   "outputs": [],
   "source": [
    "import random\n",
    "import os\n",
    "import re\n",
    "import shelve\n",
    "import shutil"
   ]
  },
  {
   "cell_type": "markdown",
   "metadata": {},
   "source": [
    "# Snippets"
   ]
  },
  {
   "cell_type": "markdown",
   "metadata": {},
   "source": [
    "## magic8ball.py"
   ]
  },
  {
   "cell_type": "code",
   "execution_count": null,
   "metadata": {},
   "outputs": [],
   "source": [
    "messages = [\"It is certain\",\n",
    "    \"it is decidedly so\",\n",
    "    \"Yes definitely\",\n",
    "    \"Reply hazy try again\",\n",
    "    \"Ask again later\",\n",
    "    \"Concentrate and ask again\",\n",
    "    \"my reply is No.\",\n",
    "    \"Outlook not so good\",\n",
    "    \"Very doubtful\"]\n",
    "\n",
    "print(messages[random.randint(0, len(messages) - 1)])"
   ]
  },
  {
   "cell_type": "markdown",
   "metadata": {},
   "source": [
    "## mypets.py"
   ]
  },
  {
   "cell_type": "code",
   "execution_count": null,
   "metadata": {},
   "outputs": [],
   "source": [
    "mypets = [\"Susie\", \"Oreo\", \"Po\"]\n",
    "print(\"Enter a pet name: \")\n",
    "name = input()\n",
    "if name not in mypets:\n",
    "    print(\"I do not have a pet named \" + name)\n",
    "else:\n",
    "    print(name + \" is my pet.\")"
   ]
  },
  {
   "cell_type": "markdown",
   "metadata": {},
   "source": [
    "## nameflutter.py"
   ]
  },
  {
   "cell_type": "code",
   "execution_count": null,
   "metadata": {},
   "outputs": [],
   "source": [
    "name = str(input(\"what is your name: \"))\n",
    "\n",
    "def process(name):\n",
    "    print(\"Oh hey there,\")\n",
    "    for i in name:\n",
    "        print(\"* * * \" + i + \" * * *\")\n",
    "\n",
    "process(name)"
   ]
  },
  {
   "cell_type": "markdown",
   "metadata": {},
   "source": [
    "## nesteddictionary.py"
   ]
  },
  {
   "cell_type": "code",
   "execution_count": null,
   "metadata": {},
   "outputs": [],
   "source": [
    "allguests = {'Alice': {'apples': 5,'pretzels': 12},\n",
    "                'Bob': {'ham sandwiches': 3, 'apples': 2},\n",
    "                'Carol': {'cups': 3, 'apple pies': 1}}\n",
    "\n",
    "def totalbrought(guests, item):\n",
    "    numbrought = 0\n",
    "    for k, v in guests.items():\n",
    "        numbrought = numbrought + v.get(item, 0)\n",
    "        return numbrought\n",
    "\n",
    "print(\"Number of things brought:\")\n",
    "print(' - apples          ' + str(totalbrought(allguests, 'apples')))\n",
    "print(' - cups            ' + str(totalbrought(allguests, 'cups')))\n",
    "print(' - cakes           ' + str(totalbrought(allguests, 'cakes')))\n",
    "print(' - ham sandwiches  ' + str(totalbrought(allguests, 'ham sandwiches')))\n",
    "print(' - apple pies      ' + str(totalbrought(allguests, 'apple pies')))"
   ]
  },
  {
   "cell_type": "markdown",
   "metadata": {},
   "source": [
    "## picnictable.py"
   ]
  },
  {
   "cell_type": "code",
   "execution_count": null,
   "metadata": {},
   "outputs": [],
   "source": [
    "def printpicnic(itemsdict, leftwidth, rightwidth):\n",
    "    print('picnic items'.center(leftwidth + rightwidth, '-'))\n",
    "\n",
    "    for k , v in itemsdict.items():\n",
    "        print(k.ljust(leftwidth, '.') + str(v).rjust(rightwidth))\n",
    "    \n",
    "picnicitems = {'sandwiches' : 4, 'apples' : 12, 'cups' : 4, 'cookies' : 8000}\n",
    "\n",
    "printpicnic(picnicitems, 20, 15)\n",
    "printpicnic(picnicitems, 20, 15)"
   ]
  },
  {
   "cell_type": "markdown",
   "metadata": {},
   "source": [
    "## validateinput.py"
   ]
  },
  {
   "cell_type": "code",
   "execution_count": null,
   "metadata": {},
   "outputs": [],
   "source": [
    "while True:\n",
    "    print(\"Enter your age: \")\n",
    "    age = input()\n",
    "    if age.isdecimal():\n",
    "        break\n",
    "    print(\"Please enter a number for your age.\")\n",
    "while True:\n",
    "    print(\"Select a new password(letters and numbers only): \")\n",
    "    password = input()\n",
    "    if password.isalnum():\n",
    "        break\n",
    "    print(\"Passwords can only have letters and numbers\")"
   ]
  },
  {
   "cell_type": "markdown",
   "metadata": {},
   "source": [
    "## tictactoe.py"
   ]
  },
  {
   "cell_type": "code",
   "execution_count": null,
   "metadata": {},
   "outputs": [],
   "source": [
    "theBoard = {'top-L': ' ', 'top-m': ' ', 'top-R': ' ',\n",
    " 'mid-L': ' ', 'mid-m': ' ', 'mid-R': ' ',\n",
    " 'low-L': ' ', 'low-m': ' ', 'low-R': ' '}\n",
    "\n",
    "def printBoard(board):\n",
    "    print(board['top-L'] + '|' + board['top-m'] + '|' + board['top-R'])\n",
    "    print('-+-+-')\n",
    "    print(board['mid-L'] + '|' + board['mid-m'] + '|' + board['mid-R'])\n",
    "    print('-+-+-')\n",
    "    print(board['low-L'] + '|' + board['low-m'] + '|' + board['low-R'])\n",
    "\n",
    "turn = 'X'\n",
    "\n",
    "for i in range(9):\n",
    "    printBoard(theBoard)\n",
    "    print('Turn for '  + turn +    '. move on which space?')\n",
    "    move = input()\n",
    "    theBoard[move] = turn\n",
    "    if turn == 'X':\n",
    "        turn = 'O'\n",
    "    else:\n",
    "        turn = 'X'\n",
    "\n",
    "printBoard(theBoard)     "
   ]
  },
  {
   "cell_type": "markdown",
   "metadata": {},
   "source": [
    "## Catnames.py"
   ]
  },
  {
   "cell_type": "code",
   "execution_count": null,
   "metadata": {},
   "outputs": [],
   "source": [
    "catnames = []\n",
    "\n",
    "while True:\n",
    "    print(\"Enter name of the cat\" + str(len(catnames) + 1) + \" (Or enter nothing to stop.):\")\n",
    "    name = input()\n",
    "    if name == '':\n",
    "        break\n",
    "    catnames = catnames + [name]\n",
    "    print(\"The cat names are:\")\n",
    "    for name in catnames:\n",
    "        print(' ' + name)"
   ]
  },
  {
   "cell_type": "markdown",
   "metadata": {},
   "source": [
    "# Files"
   ]
  },
  {
   "cell_type": "markdown",
   "metadata": {},
   "source": [
    "## fileappwri.py"
   ]
  },
  {
   "cell_type": "code",
   "execution_count": null,
   "metadata": {},
   "outputs": [],
   "source": [
    "baconfile = open(r'automatewithpython\\file\\practicetxts\\baconfile.txt', 'w')\n",
    "baconfile.write('Hello World!\\n')\n",
    "baconfile.close()\n",
    "\n",
    "baconfile = open(r'automatewithpython\\file\\practicetxts\\baconfile.txt', 'a')\n",
    "baconfile.write('Bacon is not a vegetable')\n",
    "baconfile.close()\n",
    "\n",
    "baconfile = open(r'automatewithpython\\file\\practicetxts\\baconfile.txt')\n",
    "content = baconfile.read()\n",
    "baconfile.close()\n",
    "\n",
    "print(content)"
   ]
  },
  {
   "cell_type": "markdown",
   "metadata": {},
   "source": [
    "## fileopen.py"
   ]
  },
  {
   "cell_type": "code",
   "execution_count": null,
   "metadata": {},
   "outputs": [],
   "source": [
    "hellofile = open('C:\\\\Users\\\\Flores\\\\Joey-vscode-workspaces\\\\General-Python-Repository\\\\automatewithpython\\\\practicetxts\\\\helloworld.txt')\n",
    "filecontent = hellofile.read()\n",
    "\n",
    "print(filecontent)"
   ]
  },
  {
   "cell_type": "markdown",
   "metadata": {},
   "source": [
    "## filereadlines.py"
   ]
  },
  {
   "cell_type": "code",
   "execution_count": null,
   "metadata": {},
   "outputs": [],
   "source": [
    "file = open(r\"C:\\Users\\Flores\\Joey-vscode-workspaces\\General-Python-Repository\\automatewithpython\\file\\practicetxts\\sonnet29.txt\", \"r\")\n",
    "\n",
    "content = file.readlines()\n",
    "\n",
    "print(content)"
   ]
  },
  {
   "cell_type": "markdown",
   "metadata": {},
   "source": [
    "# OS"
   ]
  },
  {
   "cell_type": "markdown",
   "metadata": {},
   "source": [
    "## oscwd.py"
   ]
  },
  {
   "cell_type": "code",
   "execution_count": null,
   "metadata": {},
   "outputs": [],
   "source": [
    "print(os.getcwd())\n",
    "\n",
    "os.chdir('C:\\\\Windows\\\\System32')\n",
    "\n",
    "print(os.getcwd())"
   ]
  },
  {
   "cell_type": "markdown",
   "metadata": {},
   "source": [
    "## osgetsize.py"
   ]
  },
  {
   "cell_type": "code",
   "execution_count": null,
   "metadata": {},
   "outputs": [],
   "source": [
    "print(os.path.getsize('C:\\\\Windows\\\\System32'))"
   ]
  },
  {
   "cell_type": "markdown",
   "metadata": {},
   "source": [
    "## osjoin.py"
   ]
  },
  {
   "cell_type": "code",
   "execution_count": null,
   "metadata": {},
   "outputs": [],
   "source": [
    "print(os.path.join('Users', 'Flores', 'vscode'))\n",
    "\n",
    "myfiles = ['accounts.txt', 'details.csv', 'invite.docx']\n",
    "\n",
    "for filename in myfiles:\n",
    "    print(os.path.join('C:\\\\Users\\\\Flores\\\\', filename))"
   ]
  },
  {
   "cell_type": "markdown",
   "metadata": {},
   "source": [
    "## oslistdir.py"
   ]
  },
  {
   "cell_type": "code",
   "execution_count": null,
   "metadata": {},
   "outputs": [],
   "source": [
    "print(os.listdir('C:\\\\Windows\\\\System32'))"
   ]
  },
  {
   "cell_type": "markdown",
   "metadata": {},
   "source": [
    "## osmakedir.py"
   ]
  },
  {
   "cell_type": "code",
   "execution_count": null,
   "metadata": {},
   "outputs": [],
   "source": [
    "os.makedirs('C:\\\\Delicious\\\\walmut\\\\waffles')"
   ]
  },
  {
   "cell_type": "markdown",
   "metadata": {},
   "source": [
    "## ospathhandling.py"
   ]
  },
  {
   "cell_type": "code",
   "execution_count": null,
   "metadata": {},
   "outputs": [],
   "source": [
    "print(os.path.abspath(.)) # Argument returns absolute path of itself.\n",
    "\n",
    "print(os.isabs(.)) # Argument returns True if it is an Absoute path and False if it is a Relative path.\n",
    "\n",
    "print(os.patah.relpath(., ..)) # Returns a relative path from start path argument to the path argument."
   ]
  },
  {
   "cell_type": "markdown",
   "metadata": {},
   "source": [
    "## ospathvalidi.py"
   ]
  },
  {
   "cell_type": "code",
   "execution_count": null,
   "metadata": {},
   "outputs": [],
   "source": [
    "print(os.path.exists('C:\\\\Windows\\\\System32'))\n",
    "print(os.path.exists('C:\\\\'))\n",
    "print(os.path.isfile('C:\\\\Windows\\\\System32'))\n",
    "print(os.path.isdir('C:\\\\Windows\\\\System32'))"
   ]
  },
  {
   "cell_type": "markdown",
   "metadata": {},
   "source": [
    "# Regex"
   ]
  },
  {
   "cell_type": "markdown",
   "metadata": {},
   "source": [
    "## complex"
   ]
  },
  {
   "cell_type": "markdown",
   "metadata": {},
   "source": [
    "### combinedcompargs.py"
   ]
  },
  {
   "cell_type": "code",
   "execution_count": null,
   "metadata": {},
   "outputs": [],
   "source": [
    "wholestringisnum = re.compile(r'^]d+$')\n",
    "\n",
    "mtob1 = wholestringisnum.search(\"1234567890\")\n",
    "mtob2 = wholestringisnum.search(\"12345xyz67890\")\n",
    "\n",
    "\n",
    "print(mtob1)\n",
    "print(mtob2)"
   ]
  },
  {
   "cell_type": "markdown",
   "metadata": {},
   "source": [
    "### verbosingcomplexregex.py"
   ]
  },
  {
   "cell_type": "code",
   "execution_count": null,
   "metadata": {},
   "outputs": [],
   "source": [
    "robocop = re.compile(r'robocop', re.I)\n",
    "\n",
    "print(robocop.search(\"Robocop is part man, machine, all cop.\").group())\n",
    "print(robocop.search(\"ROBOCOP protects the innocent.\").group())"
   ]
  },
  {
   "cell_type": "markdown",
   "metadata": {},
   "source": [
    "## findall"
   ]
  },
  {
   "cell_type": "markdown",
   "metadata": {},
   "source": [
    "### findallregex.py"
   ]
  },
  {
   "cell_type": "code",
   "execution_count": null,
   "metadata": {},
   "outputs": [],
   "source": [
    "phonenumregex = re.compile(r'\\d\\d\\d-\\d\\d\\d-\\d\\d\\d\\d')\n",
    "\n",
    "mtob1 = phonenumregex.search(\"Cell: 415-555-9999 Work: 212-555-0000\") # Search method\n",
    "mtob2 = phonenumregex.findall(\"Cell: 415-555-9999 Work: 212-555-0000\") # Findall method\n",
    "\n",
    "\n",
    "print(mtob1.group())\n",
    "print(mtob2) # group method returns Error. Even if pattern has groups."
   ]
  },
  {
   "cell_type": "markdown",
   "metadata": {},
   "source": [
    "### vowelcharacterclass.py"
   ]
  },
  {
   "cell_type": "code",
   "execution_count": null,
   "metadata": {},
   "outputs": [],
   "source": [
    "vowelregex = re.compile(r'[aeiouAEIOU]')\n",
    "\n",
    "mtob1 = vowelregex.findall(\"Robocop eats baby food. BABY FOOD.\")\n",
    "\n",
    "\n",
    "print(mtob1)"
   ]
  },
  {
   "cell_type": "markdown",
   "metadata": {},
   "source": [
    "### wildcard.py"
   ]
  },
  {
   "cell_type": "code",
   "execution_count": null,
   "metadata": {},
   "outputs": [],
   "source": [
    "atregex = re.compile(r'.at')\n",
    "\n",
    "mtob1 = atregex.search(\"The cat in the hat sat on the flat mat.\")\n",
    "\n",
    "\n",
    "print(mtob1)"
   ]
  },
  {
   "cell_type": "markdown",
   "metadata": {},
   "source": [
    "### xmasregex.py"
   ]
  },
  {
   "cell_type": "code",
   "execution_count": null,
   "metadata": {},
   "outputs": [],
   "source": [
    "xmasregex = re.compile(r'\\d\\s\\w+')\n",
    "\n",
    "mtob1 = xmasregex.findall(\n",
    "    \"12 drummers, 11 pipers, 10 lords, 9 ladies, 8 maids, 7 swans, 6 geese, 5 rings, 4 birds, 3 hens, 2 doves, 1 partidge\"\n",
    "    )\n",
    "\n",
    "    \n",
    "print(mtob1)\n"
   ]
  },
  {
   "cell_type": "markdown",
   "metadata": {},
   "source": [
    "## search"
   ]
  },
  {
   "cell_type": "markdown",
   "metadata": {},
   "source": [
    "### caretanddollar.py"
   ]
  },
  {
   "cell_type": "code",
   "execution_count": null,
   "metadata": {},
   "outputs": [],
   "source": [
    "wholestringisnum = re.compile(r'^]d+$')\n",
    "\n",
    "mtob1 = wholestringisnum.search(\"1234567890\")\n",
    "mtob2 = wholestringisnum.search(\"12345xyz67890\")\n",
    "\n",
    "\n",
    "print(mtob1)\n",
    "print(mtob2)"
   ]
  },
  {
   "cell_type": "markdown",
   "metadata": {},
   "source": [
    "### casesensitvemtching.py"
   ]
  },
  {
   "cell_type": "code",
   "execution_count": null,
   "metadata": {},
   "outputs": [],
   "source": [
    "robocop = re.compile(r'robocop', re.I)\n",
    "\n",
    "print(robocop.search(\"Robocop is parrt man, machine, all cop.\").group())\n",
    "print(robocop.search(\"ROBOCOP protects the innocent.\").group())"
   ]
  },
  {
   "cell_type": "markdown",
   "metadata": {},
   "source": [
    "### dotstar.py"
   ]
  },
  {
   "cell_type": "code",
   "execution_count": null,
   "metadata": {},
   "outputs": [],
   "source": [
    "nameregex = re.compile(r'First name: (.*) Last name: (.*)') # Greedy pattern.\n",
    "\n",
    "mtob1 = nameregex.search(\"First name: Eduardo Last name: Flores\")\n",
    "\n",
    "\n",
    "print(mtob1.group(1))\n",
    "print(mtob1.group(2))\n",
    "\n",
    "\n",
    "nongreedyregex = re.compile(r'<.*?>')\n",
    "\n",
    "mtob2 = nongreedyregex.search(\"<To serve man> for dinner.>\")\n",
    "\n",
    "\n",
    "print(mtob2.group())\n",
    "\n",
    " \n",
    "greedyregex = re.compile(r'<.*>')\n",
    "\n",
    "mtob3 = greedyregex.search(\"<To serve man> for dinner.>\")\n",
    "\n",
    "\n",
    "print(mtob3.group())\n",
    "\n",
    "\n",
    "nonewlineregex = re.compile(r'.*')\n",
    "\n",
    "\n",
    "print(nonewlineregex.search(\n",
    "    \"Serve the public trust. \\nProtect the innocent. \\nUphold the Law.\"\n",
    "    ).group()) # Only prints the first line.\n",
    "\n",
    "\n",
    "newlineregex = re.compile(r'.*', re.DOTALL)\n",
    "\n",
    "\n",
    "print(newlineregex.search(\n",
    "    \"Serve the public trust. \\nProtect the innocent. \\nUphold the Law.\"\n",
    "    ).group()) # Prints all Lines."
   ]
  },
  {
   "cell_type": "markdown",
   "metadata": {},
   "source": [
    "### greedyandnongreedy.py"
   ]
  },
  {
   "cell_type": "code",
   "execution_count": null,
   "metadata": {},
   "outputs": [],
   "source": [
    "haregex = re.compile(r'(Ha){3,5}')\n",
    "mtob1 = haregex.search(\"HaHaHaHaHa\")\n",
    "\n",
    "\n",
    "haregexnon = re.compile(r'(Ha){3,5}?')\n",
    "mtob2 = haregexnon.search(\"HaHaHaHaHa\")\n",
    "\n",
    "\n",
    "print(mtob1.group())\n",
    "print(mtob2.group())"
   ]
  },
  {
   "cell_type": "markdown",
   "metadata": {},
   "source": [
    "### isphonenumbernonregex.py"
   ]
  },
  {
   "cell_type": "code",
   "execution_count": null,
   "metadata": {},
   "outputs": [],
   "source": [
    "def isphonenumber(text):\n",
    "    if len(text) != 12:\n",
    "        return False\n",
    "    for i in range(0, 3):\n",
    "        if not text[i].isdecimal():\n",
    "            return False\n",
    "    if text[3] != '-':\n",
    "        return False\n",
    "    for i in range(4, 7):\n",
    "        if not text[i].isdecimal():\n",
    "            return False\n",
    "    if text[7] != '-':\n",
    "        return False\n",
    "    for i in range(8, 12):\n",
    "        if not text[i].isdecimal():\n",
    "             return False\n",
    "    return True\n",
    "\n",
    "\n",
    "'''\n",
    "print('415-555-4242 is a phone number: ')\n",
    "print(isphonenumber('415-555-4242'))\n",
    "\n",
    "print('moshi moshi is not a phone number: ')\n",
    "print(isphonenumber('moshi moshi'))\n",
    "'''\n",
    "\n",
    "message = 'call me at 415-555-1011 tomorrow 415-555-9999 is my office.'\n",
    "for i in range(len(message)):\n",
    "    chunk = message[i:i+12]\n",
    "    if isphonenumber(chunk):\n",
    "        print('Phone number found: ' + chunk)\n",
    "        print('Done')"
   ]
  },
  {
   "cell_type": "markdown",
   "metadata": {},
   "source": [
    "### insphonenumberegex.py"
   ]
  },
  {
   "cell_type": "code",
   "execution_count": null,
   "metadata": {},
   "outputs": [],
   "source": [
    "phone_number_regex = re.compile(r'\\d\\d\\d-\\d\\d\\d-\\d\\d\\d\\d')\n",
    "\n",
    "mtob = phone_number_regex.search('my number is 415-555-4242.')\n",
    "\n",
    "\n",
    "print(\"Phone number found: \" + mtob.group())"
   ]
  },
  {
   "cell_type": "markdown",
   "metadata": {},
   "source": [
    "### isphonenumberregexgroup.py"
   ]
  },
  {
   "cell_type": "code",
   "execution_count": null,
   "metadata": {},
   "outputs": [],
   "source": [
    "phone_number_regex = re.compile(r'(\\d\\d\\d)-(\\d\\d\\d-\\d\\d\\d\\d)')\n",
    "mtob = phone_number_regex.search('my number is 415-555-4242.')\n",
    "\n",
    "\n",
    "print(mtob.groups())\n",
    "\n",
    "areacode, mainnumber = mtob.groups()\n",
    "print(areacode); print(mainnumber)\n",
    "\n",
    "\n",
    "print(mtob.group())\n",
    "print(mtob.group(0))\n",
    "\n",
    "print(mtob.group(1))\n",
    "print(mtob.group(2))"
   ]
  },
  {
   "cell_type": "markdown",
   "metadata": {},
   "source": [
    "### oneormore.py"
   ]
  },
  {
   "cell_type": "code",
   "execution_count": null,
   "metadata": {},
   "outputs": [],
   "source": [
    "batregex = re.compile(r'Bat(wo)+man')\n",
    "\n",
    "mtob1 = batregex.search(\"The adventure of Batwoman\")\n",
    "mtob2 = batregex.search(\"The adventure of Batwowowowoman\")\n",
    "mtob3 = batregex.search(\"The adventure of Batman\")\n",
    "\n",
    "\n",
    "print(mtob1.group())\n",
    "print(mtob2.group())\n",
    "print(mtob3.group())"
   ]
  },
  {
   "cell_type": "markdown",
   "metadata": {},
   "source": [
    "### optionalmatching.py"
   ]
  },
  {
   "cell_type": "code",
   "execution_count": null,
   "metadata": {},
   "outputs": [],
   "source": [
    "batregex = re.compile(r'Bat(wo)?man')\n",
    "\n",
    "mtob1 = batregex.search(\"The adventures of Batman.\")\n",
    "\n",
    "\n",
    "print(mtob1.group())\n",
    "\n",
    "mtob2 = batregex.search(\"The adventures of Batwoman.\")\n",
    "\n",
    "\n",
    "print(mtob2.group())"
   ]
  },
  {
   "cell_type": "markdown",
   "metadata": {},
   "source": [
    "### piperegex.py"
   ]
  },
  {
   "cell_type": "code",
   "execution_count": null,
   "metadata": {},
   "outputs": [],
   "source": [
    "heroregex = re.compile(r'Batman|Tina Fey')\n",
    "\n",
    "mtob1 = heroregex.search('Batman and Tina Fey.')\n",
    "\n",
    "print(mtob1.group())\n",
    "\n",
    "mtob2 = heroregex.search('Tina Fey and Batman.')\n",
    "\n",
    "print(mtob2.group())\n",
    "\n",
    "batregex = re.compile(r'Bat(man|mobile|copter|bat)')\n",
    "\n",
    "mtob3 = batregex.search('Batmobile lost a wheel')\n",
    "\n",
    "print(mtob3.group())"
   ]
  },
  {
   "cell_type": "markdown",
   "metadata": {},
   "source": [
    "### specificrepitition.py"
   ]
  },
  {
   "cell_type": "code",
   "execution_count": null,
   "metadata": {},
   "outputs": [],
   "source": [
    "haregex = re.compile(r'(Ha){3}')\n",
    "\n",
    "mtob1 = haregex.search(\"HaHaHa\")\n",
    "mtob2 = haregex.search(\"Ha\")\n",
    "\n",
    "\n",
    "print(mtob1.group())\n",
    "print(mtob2.group())"
   ]
  },
  {
   "cell_type": "markdown",
   "metadata": {},
   "source": [
    "### zeroormore.py"
   ]
  },
  {
   "cell_type": "code",
   "execution_count": null,
   "metadata": {},
   "outputs": [],
   "source": [
    "batregex = re.compile(r' Bat(wo)*man')\n",
    "\n",
    "mtob1 = batregex.search(\"The adventures of Batman.\")\n",
    "mtob2 = batregex.search(\"The adventures of Batwoman\")\n",
    "mtob3 = batregex.search(\"The adventures of Batwowowowoman\")\n",
    "\n",
    "\n",
    "print(mtob1.group())\n",
    "print(mtob2.group())\n",
    "print(mtob3.group())"
   ]
  },
  {
   "cell_type": "markdown",
   "metadata": {},
   "source": [
    "## sub"
   ]
  },
  {
   "cell_type": "markdown",
   "metadata": {},
   "source": [
    "### censorusingsubmethod.py"
   ]
  },
  {
   "cell_type": "code",
   "execution_count": null,
   "metadata": {},
   "outputs": [],
   "source": [
    "namesregex = re.compile(r'Agent \\w+')\n",
    "\n",
    "print(namesregex.sub('CENSORED', 'Agent Alice gave the secret documents to Agent Bob.'))\n",
    "\n",
    "agentnamesregex = re.compile(r'Agent (\\w)\\w*')\n",
    "\n",
    "print(agentnamesregex.sub(\n",
    "    r'\\1****', \"Agent Alice told Agent Carol that Agent Eve knew Agent Bob was a Double Agent.\"\n",
    "))"
   ]
  },
  {
   "cell_type": "markdown",
   "metadata": {},
   "source": [
    "# Shelve"
   ]
  },
  {
   "cell_type": "markdown",
   "metadata": {},
   "source": [
    "## shelvecheck.py"
   ]
  },
  {
   "cell_type": "code",
   "execution_count": null,
   "metadata": {},
   "outputs": [],
   "source": [
    "shelffile = shelve.open('mydata')\n",
    "\n",
    "print(type(shelffile))\n",
    "print(shelffile['cats'])\n",
    "\n",
    "shelffile.close()"
   ]
  },
  {
   "cell_type": "markdown",
   "metadata": {},
   "source": [
    "## shelvdict.py"
   ]
  },
  {
   "cell_type": "code",
   "execution_count": null,
   "metadata": {},
   "outputs": [],
   "source": [
    "shelffile = shelve.open('mydata')\n",
    "\n",
    "print(list(shelffile.keys()))\n",
    "print(list(shelffile.values()))\n",
    "\n",
    "shelffile.close()"
   ]
  },
  {
   "cell_type": "markdown",
   "metadata": {},
   "source": [
    "## shelveprac.py"
   ]
  },
  {
   "cell_type": "code",
   "execution_count": null,
   "metadata": {},
   "outputs": [],
   "source": [
    "shelffile = shelve.open('mydata')\n",
    "cats = ['Zophie', 'Pooka', 'Simon']\n",
    "shelffile['cats'] = cats\n",
    "shelffile.close()"
   ]
  },
  {
   "cell_type": "markdown",
   "metadata": {},
   "source": [
    "# shutil"
   ]
  },
  {
   "cell_type": "markdown",
   "metadata": {},
   "source": [
    "## shutilco.py"
   ]
  },
  {
   "cell_type": "code",
   "execution_count": null,
   "metadata": {},
   "outputs": [],
   "source": []
  }
 ],
 "metadata": {
  "kernelspec": {
   "display_name": "Python 3.8.6 64-bit",
   "metadata": {
    "interpreter": {
     "hash": "2db524e06e9f5f4ffedc911c917cb75e12dbc923643829bf417064a77eb14d37"
    }
   },
   "name": "python3"
  },
  "language_info": {
   "codemirror_mode": {
    "name": "ipython",
    "version": 3
   },
   "file_extension": ".py",
   "mimetype": "text/x-python",
   "name": "python",
   "nbconvert_exporter": "python",
   "pygments_lexer": "ipython3",
   "version": "3.10.1"
  },
  "orig_nbformat": 2
 },
 "nbformat": 4,
 "nbformat_minor": 2
}
