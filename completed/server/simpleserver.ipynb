{
 "metadata": {
  "language_info": {
   "codemirror_mode": {
    "name": "ipython",
    "version": 3
   },
   "file_extension": ".py",
   "mimetype": "text/x-python",
   "name": "python",
   "nbconvert_exporter": "python",
   "pygments_lexer": "ipython3",
   "version": "3.8.6"
  },
  "orig_nbformat": 2,
  "kernelspec": {
   "name": "python386jvsc74a57bd02db524e06e9f5f4ffedc911c917cb75e12dbc923643829bf417064a77eb14d37",
   "display_name": "Python 3.8.6 64-bit"
  },
  "metadata": {
   "interpreter": {
    "hash": "2db524e06e9f5f4ffedc911c917cb75e12dbc923643829bf417064a77eb14d37"
   }
  }
 },
 "nbformat": 4,
 "nbformat_minor": 2,
 "cells": [
  {
   "source": [
    "# Simple Server\n",
    "## Followed Part 1 on this Article: https://defn.io/2018/02/25/web-app-from-scratch-01/"
   ],
   "cell_type": "markdown",
   "metadata": {}
  },
  {
   "source": [
    "# Initialize"
   ],
   "cell_type": "markdown",
   "metadata": {}
  },
  {
   "cell_type": "code",
   "execution_count": null,
   "metadata": {},
   "outputs": [],
   "source": [
    "import socket\n",
    "import typing\n",
    "import mimetypes\n",
    "import os\n",
    "\n",
    "HOST = \"127.0.0.2\"\n",
    "PORT = 9000\n",
    "\n",
    "SERVER_ROOT = os.path.abspath(\"www\")\n",
    "\n",
    "RESPONSE = b\"\"\"\\\n",
    "HTTP/1.1 200 OK\n",
    "Content-type: text/html\n",
    "Content-length: 24\n",
    "\n",
    "<h1>The code worked!</h1>\"\"\".replace(b\"\\n\", b\"\\r\\n\")\n",
    "\n",
    "BAD_REQUEST_RESPONSE = b\"\"\"\\\n",
    "HTTP/1.1 400 Bad Request\n",
    "Content-type: text/plain\n",
    "Content-length: 11\n",
    "\n",
    "Bad Request\"\"\".replace(b\"\\n\", b\"\\r\\n\")\n",
    "\n",
    "NOT_FOUND_RESPONSE = b\"\"\"\\\n",
    "HTTP/1.1 404 Not Found\n",
    "Content-type: text/plain\n",
    "Content-length: 9\n",
    "\n",
    "Not Found\"\"\".replace(b\"\\n\", b\"\\r\\n\")\n",
    "\n",
    "\n",
    "METHOD_NOT_ALLOWED_RESPONSE = b\"\"\"\\\n",
    "HTTP/1.1 405 Method Not Allowed\n",
    "Content-type: text/plain\n",
    "Content-length: 17\n",
    "\n",
    "Method Not Allowed\"\"\".replace(b\"\\n\", b\"\\r\\n\")\n",
    "\n",
    "FILE_RESPONSE_TEMPLATE = \"\"\"\\\n",
    "HTTP/1.1 200 OK\n",
    "Content-type: {content_type}\n",
    "Content-length: {content_length}\n",
    "\n",
    "\"\"\".replace(\"\\n\", \"\\r\\n\")\n",
    "\n",
    "\n",
    "\n",
    "class Request(typing.NamedTuple):\n",
    "    method: str\n",
    "    path: str\n",
    "    headers: typing.Mapping[str, str]\n",
    "\n",
    "    @classmethod\n",
    "    def from_socket(cls, sock: socket.socket) -> \"Request\":\n",
    "        \"\"\"Read and parse the request from a socket object.\n",
    "\n",
    "        Raises:\n",
    "          ValueError: When the request cannot be parsed.\n",
    "        \"\"\"\n",
    "        lines = iter_lines(sock)\n",
    "\n",
    "        try:\n",
    "            request_line = next(lines).decode(\"ascii\")\n",
    "        except StopIteration:\n",
    "            raise ValueError(\"Request line missing.\")\n",
    "\n",
    "        try:\n",
    "            method, path, _ = request_line.split(\" \")\n",
    "        except ValueError:\n",
    "            raise ValueError(f\"Malformed request line {request_line!r}.\")\n",
    "\n",
    "        headers = {}\n",
    "        for line in lines:\n",
    "            try:\n",
    "                name, _, value = line.decode(\"ascii\").partition(\":\")\n",
    "                headers[name.lower()] = value.lstrip()\n",
    "            except ValueError:\n",
    "                raise ValueError(f\"Malformed header line {line!r}.\")\n",
    "\n",
    "        return cls(method=method.upper(), path=path, headers=headers)\n",
    "\n",
    "def serve_file(sock: socket.socket, path: str) -> None:\n",
    "    \"\"\"Given a socket and the relative path to a file (relative to\n",
    "    SERVER_SOCK), send that file to the socket if it exists.  If the\n",
    "    file doesn't exist, send a \"404 Not Found\" response.\n",
    "    \"\"\"\n",
    "    if path == \"/\":\n",
    "        path = \"/index.html\"\n",
    "\n",
    "    abspath = os.path.normpath(os.path.join(SERVER_ROOT, path.lstrip(\"/\")))\n",
    "    if not abspath.startswith(SERVER_ROOT):\n",
    "        sock.sendall(NOT_FOUND_RESPONSE)\n",
    "        return\n",
    "\n",
    "    try:\n",
    "        with open(abspath, \"rb\") as f:\n",
    "            stat = os.fstat(f.fileno())\n",
    "            content_type, encoding = mimetypes.guess_type(abspath)\n",
    "            if content_type is None:\n",
    "                content_type = \"application/octet-stream\"\n",
    "\n",
    "            if encoding is not None:\n",
    "                content_type += f\"; charset={encoding}\"\n",
    "\n",
    "            response_headers = FILE_RESPONSE_TEMPLATE.format(\n",
    "                content_type=content_type,\n",
    "                content_length=stat.st_size,\n",
    "            ).encode(\"ascii\")\n",
    "\n",
    "            sock.sendall(response_headers)\n",
    "            sock.sendfile(f)\n",
    "    except FileNotFoundError:\n",
    "        sock.sendall(NOT_FOUND_RESPONSE)\n",
    "        return\n",
    "\n",
    "def iter_lines(sock: socket.socket, bufsize: int = 16_384) -> typing.Generator[bytes, None, bytes]:\n",
    "    \"\"\"Given a socket, read all the individual CRLF-separated lines\n",
    "    and yield each one until an empty one is found.  Returns the\n",
    "    remainder after the empty line.\n",
    "    \"\"\"\n",
    "    buff = b\"\"\n",
    "    while True:\n",
    "        data = sock.recv(bufsize)\n",
    "        if not data:\n",
    "            return b\"\"\n",
    "\n",
    "        buff += data\n",
    "        while True:\n",
    "            try:\n",
    "                i = buff.index(b\"\\r\\n\")\n",
    "                line, buff = buff[:i], buff[i + 2:]\n",
    "                if not line:\n",
    "                    return buff\n",
    "\n",
    "                yield line\n",
    "            except IndexError:\n",
    "                break"
   ]
  },
  {
   "source": [
    "# Simple server"
   ],
   "cell_type": "markdown",
   "metadata": {}
  },
  {
   "cell_type": "code",
   "execution_count": null,
   "metadata": {},
   "outputs": [],
   "source": [
    "with socket.socket() as server_sock:\n",
    "    server_sock.setsockopt(socket.SOL_SOCKET, socket.SO_REUSEADDR, 1)\n",
    "    server_sock.bind((HOST, PORT))\n",
    "    server_sock.listen(0)\n",
    "    print(f\"Listening on {HOST}:{PORT}...\")\n",
    "\n",
    "    while True:\n",
    "        client_sock, client_addr = server_sock.accept()\n",
    "        print(f\"New connection from {client_addr}.\")\n",
    "        with client_sock:\n",
    "            client_sock.sendall(RESPONSE)"
   ]
  },
  {
   "source": [
    "## Logs the metadata and cannot do bad responses."
   ],
   "cell_type": "markdown",
   "metadata": {}
  },
  {
   "cell_type": "code",
   "execution_count": null,
   "metadata": {},
   "outputs": [],
   "source": [
    "with socket.socket() as server_sock:\n",
    "    server_sock.setsockopt(socket.SOL_SOCKET, socket.SO_REUSEADDR, 1)\n",
    "    server_sock.bind((HOST, PORT))\n",
    "    server_sock.listen(0)\n",
    "    print(f\"Listening on {HOST}:{PORT}...\")\n",
    "\n",
    "    while True:\n",
    "        client_sock, client_addr = server_sock.accept()\n",
    "        print(f\"New connection from {client_addr}.\")\n",
    "        with client_sock:\n",
    "            for request_line in iter_lines(client_sock):\n",
    "                print(request_line)\n",
    "\n",
    "            client_sock.sendall(RESPONSE)"
   ]
  },
  {
   "source": [
    "## Logs request data and redirects Bad responses."
   ],
   "cell_type": "markdown",
   "metadata": {}
  },
  {
   "cell_type": "code",
   "execution_count": null,
   "metadata": {},
   "outputs": [],
   "source": [
    "with socket.socket() as server_sock:\n",
    "    server_sock.setsockopt(socket.SOL_SOCKET, socket.SO_REUSEADDR, 1)\n",
    "    server_sock.bind((HOST, PORT))\n",
    "    server_sock.listen(0)\n",
    "    print(f\"Listening on {HOST}:{PORT}...\")\n",
    "\n",
    "    while True:\n",
    "        client_sock, client_addr = server_sock.accept()\n",
    "        print(f\"New connection from {client_addr}.\")\n",
    "        with client_sock:\n",
    "            try:\n",
    "                request = Request.from_socket(client_sock)\n",
    "                print(request)\n",
    "                client_sock.sendall(RESPONSE)\n",
    "            except Exception as e:\n",
    "                print(f\"Failed to parse request: {e}\")\n",
    "                client_sock.sendall(BAD_REQUEST_RESPONSE)"
   ]
  },
  {
   "source": [
    "# File Server"
   ],
   "cell_type": "markdown",
   "metadata": {}
  },
  {
   "source": [
    "## Reads the www/index.html file"
   ],
   "cell_type": "markdown",
   "metadata": {}
  },
  {
   "cell_type": "code",
   "execution_count": 2,
   "metadata": {},
   "outputs": [
    {
     "output_type": "stream",
     "name": "stdout",
     "text": [
      "Listening on 127.0.0.2:9000...\n",
      "Received connection from ('127.0.0.1', 22446)...\n",
      "Received connection from ('127.0.0.1', 22447)...\n",
      "Received connection from ('127.0.0.1', 22702)...\n"
     ]
    }
   ],
   "source": [
    "with socket.socket() as server_sock:\n",
    "    server_sock.setsockopt(socket.SOL_SOCKET, socket.SO_REUSEADDR, 1)\n",
    "    server_sock.bind((HOST, PORT))\n",
    "    server_sock.listen(0)\n",
    "    print(f\"Listening on {HOST}:{PORT}...\")\n",
    "\n",
    "    while True:\n",
    "        client_sock, client_addr = server_sock.accept()\n",
    "        print(f\"Received connection from {client_addr}...\")\n",
    "        with client_sock:\n",
    "            try:\n",
    "                request = Request.from_socket(client_sock)\n",
    "                if request.method != \"GET\":\n",
    "                    client_sock.sendall(METHOD_NOT_ALLOWED_RESPONSE)\n",
    "                    continue\n",
    "\n",
    "                serve_file(client_sock, request.path)\n",
    "            except Exception as e:\n",
    "                print(f\"Failed to parse request: {e}\")\n",
    "                client_sock.sendall(BAD_REQUEST_RESPONSE)"
   ]
  },
  {
   "cell_type": "code",
   "execution_count": null,
   "metadata": {},
   "outputs": [],
   "source": []
  }
 ]
}